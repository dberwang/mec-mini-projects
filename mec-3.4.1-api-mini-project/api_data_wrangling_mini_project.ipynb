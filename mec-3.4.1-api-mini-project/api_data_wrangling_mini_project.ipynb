{
 "cells": [
  {
   "cell_type": "markdown",
   "metadata": {},
   "source": [
    "This exercise will require you to pull some data from https://data.nasdaq.com/ (formerly Quandl API)."
   ]
  },
  {
   "cell_type": "markdown",
   "metadata": {},
   "source": [
    "As a first step, you will need to register a free account on the https://data.nasdaq.com/ website."
   ]
  },
  {
   "cell_type": "markdown",
   "metadata": {},
   "source": [
    "After you register, you will be provided with a unique API key, that you should store:\n",
    "\n",
    "*Note*: Use a `.env` file and put your key in there and `python-dotenv` to access it in this notebook. \n",
    "\n",
    "The code below uses a key that was used when generating this project but has since been deleted. Never submit your keys to source control. There is a `.env-example` file in this repository to illusrtate what you need. Copy that to a file called `.env` and use your own api key in that `.env` file. Make sure you also have a `.gitignore` file with a line for `.env` added to it. \n",
    "\n",
    "The standard Python gitignore is [here](https://github.com/github/gitignore/blob/master/Python.gitignore) you can just copy that. "
   ]
  },
  {
   "cell_type": "code",
   "execution_count": 57,
   "metadata": {},
   "outputs": [
    {
     "name": "stdout",
     "output_type": "stream",
     "text": [
      "A6tDvSTSHyYy81UB3t5Q\n"
     ]
    }
   ],
   "source": [
    "# get api key from your .env file\n",
    "import os\n",
    "from dotenv import load_dotenv  # if missing this module, simply run `pip install python-dotenv`\n",
    "\n",
    "load_dotenv()\n",
    "API_KEY = os.getenv('NASDAQ_API_KEY')\n",
    "\n",
    "print(API_KEY)"
   ]
  },
  {
   "cell_type": "markdown",
   "metadata": {},
   "source": [
    "Nasdaq Data has a large number of data sources, but, unfortunately, most of them require a Premium subscription. Still, there are also a good number of free datasets."
   ]
  },
  {
   "cell_type": "markdown",
   "metadata": {},
   "source": [
    "For this mini project, we will focus on equities data from the Frankfurt Stock Exhange (FSE), which is available for free. We'll try and analyze the stock prices of a company called Carl Zeiss Meditec, which manufactures tools for eye examinations, as well as medical lasers for laser eye surgery: https://www.zeiss.com/meditec/int/home.html. The company is listed under the stock ticker AFX_X."
   ]
  },
  {
   "cell_type": "markdown",
   "metadata": {},
   "source": [
    "You can find the detailed Nasdaq Data API instructions here: https://docs.data.nasdaq.com/docs/in-depth-usage"
   ]
  },
  {
   "cell_type": "markdown",
   "metadata": {},
   "source": [
    "While there is a dedicated Python package for connecting to the Nasdaq API, we would prefer that you use the *requests* package, which can be easily downloaded using *pip* or *conda*. You can find the documentation for the package here: http://docs.python-requests.org/en/master/ "
   ]
  },
  {
   "cell_type": "markdown",
   "metadata": {},
   "source": [
    "Finally, apart from the *requests* package, you are encouraged to not use any third party Python packages, such as *pandas*, and instead focus on what's available in the Python Standard Library (the *collections* module might come in handy: https://pymotw.com/3/collections/).\n",
    "Also, since you won't have access to DataFrames, you are encouraged to us Python's native data structures - preferably dictionaries, though some questions can also be answered using lists.\n",
    "You can read more on these data structures here: https://docs.python.org/3/tutorial/datastructures.html"
   ]
  },
  {
   "cell_type": "markdown",
   "metadata": {},
   "source": [
    "Keep in mind that the JSON responses you will be getting from the API map almost one-to-one to Python's dictionaries. Unfortunately, they can be very nested, so make sure you read up on indexing dictionaries in the documentation provided above."
   ]
  },
  {
   "cell_type": "code",
   "execution_count": 58,
   "metadata": {},
   "outputs": [],
   "source": [
    "# First, import the relevant modules\n",
    "from urllib.request import urlopen as uReq\n",
    "import json"
   ]
  },
  {
   "cell_type": "markdown",
   "metadata": {},
   "source": [
    "Note: API's can change a bit with each version, for this exercise it is reccomended to use the nasdaq api at `https://data.nasdaq.com/api/v3/`. This is the same api as what used to be quandl so `https://www.quandl.com/api/v3/` should work too.\n",
    "\n",
    "Hint: We are looking for the `AFX_X` data on the `datasets/FSE/` dataset."
   ]
  },
  {
   "cell_type": "code",
   "execution_count": 59,
   "metadata": {},
   "outputs": [
    {
     "name": "stdout",
     "output_type": "stream",
     "text": [
      "{'dataset_data': {'limit': None, 'transform': None, 'column_index': None, 'column_names': ['Date', 'Open', 'High', 'Low', 'Close', 'Change', 'Traded Volume', 'Turnover', 'Last Price of the Day', 'Daily Traded Units', 'Daily Turnover'], 'start_date': '2017-01-01', 'end_date': '2017-01-02', 'frequency': 'daily', 'data': [['2017-01-02', 34.99, 35.94, 34.99, 35.8, None, 44700.0, 1590561.0, None, None, None]], 'collapse': None, 'order': None}}\n"
     ]
    }
   ],
   "source": [
    "# Now, call the Nasdaq API and pull out a small sample of the data (only one day) to get a glimpse\n",
    "# into the JSON structure that will be returned\n",
    "\n",
    "def fetch_data(dataset_code, database_code, start_date, end_date):\n",
    "    url = 'https://data.nasdaq.com/api/v3/datasets/{}/{}/data.json?&start_date={}&end_date={}&api_key={}' \\\n",
    "            .format(database_code, dataset_code, start_date, end_date, API_KEY)\n",
    "    with uReq(url) as response:\n",
    "        data = json.loads(response.read().decode('utf-8'))\n",
    "    return data\n",
    "\n",
    "print(fetch_data('AFX_X', 'FSE', '2017-01-01', '2017-01-02'))"
   ]
  },
  {
   "cell_type": "code",
   "execution_count": 60,
   "metadata": {},
   "outputs": [],
   "source": [
    "# Inspect the JSON structure of the object you created, and take note of how nested it is,\n",
    "# as well as the overall structure"
   ]
  },
  {
   "cell_type": "markdown",
   "metadata": {},
   "source": [
    "These are your tasks for this mini project:\n",
    "\n",
    "1. Collect data from the Franfurt Stock Exchange, for the ticker AFX_X, for the whole year 2017 (keep in mind that the date format is YYYY-MM-DD).\n",
    "2. Convert the returned JSON object into a Python dictionary.\n",
    "3. Calculate what the highest and lowest opening prices were for the stock in this period.\n",
    "4. What was the largest change in any one day (based on High and Low price)?\n",
    "5. What was the largest change between any two days (based on Closing Price)?\n",
    "6. What was the average daily trading volume during this year?\n",
    "7. (Optional) What was the median trading volume during this year. (Note: you may need to implement your own function for calculating the median.)"
   ]
  },
  {
   "cell_type": "code",
   "execution_count": 61,
   "metadata": {},
   "outputs": [
    {
     "name": "stdout",
     "output_type": "stream",
     "text": [
      "Fetched JSON data is now: <class 'dict'>\n"
     ]
    }
   ],
   "source": [
    "# TASK 1: Collect data from the Franfurt Stock Exchange, for the ticker AFX_X, for the whole year 2017.\n",
    "# TASK 2: Convert the returned JSON object into a Python dictionary.\n",
    "\n",
    "fetched_data = fetch_data('AFX_X', 'FSE', '2017-01-01', '2017-12-31')\n",
    "print('Fetched JSON data is now: {}'.format(type(fetched_data)))\n",
    "\n",
    "column_names = fetched_data['dataset_data']['column_names']\n",
    "data = fetched_data['dataset_data']['data']"
   ]
  },
  {
   "cell_type": "code",
   "execution_count": 62,
   "metadata": {},
   "outputs": [
    {
     "data": {
      "text/plain": [
       "{'Date': 0,\n",
       " 'Open': 1,\n",
       " 'High': 2,\n",
       " 'Low': 3,\n",
       " 'Close': 4,\n",
       " 'Change': 5,\n",
       " 'Traded Volume': 6,\n",
       " 'Turnover': 7,\n",
       " 'Last Price of the Day': 8,\n",
       " 'Daily Traded Units': 9,\n",
       " 'Daily Turnover': 10}"
      ]
     },
     "execution_count": 62,
     "metadata": {},
     "output_type": "execute_result"
    }
   ],
   "source": [
    "# Column_dict is a dictionary to lookup the numerical index for the associated column name.\n",
    "\n",
    "column_dict = {}\n",
    "\n",
    "for i in range(len(column_names)):\n",
    "    column_dict[column_names[i]] = i\n",
    "    \n",
    "column_dict"
   ]
  },
  {
   "cell_type": "code",
   "execution_count": 63,
   "metadata": {},
   "outputs": [
    {
     "name": "stdout",
     "output_type": "stream",
     "text": [
      "$53.11 was the highest opening price for the stock in this period.\n",
      "\n",
      "$34.00 was the lowest opening price for the stock in this period.\n"
     ]
    }
   ],
   "source": [
    "# TASK 3: Calculate what the highest and lowest opening prices were for the stock in this period.\n",
    "\n",
    "# Highest and lowest opening price\n",
    "opening_prices = []\n",
    "\n",
    "for i in range(len(data)):\n",
    "    opening_price = data[i][column_dict['Open']]\n",
    "    # opening price had null values at 2017-05-01, 2017-04-17, 2017-04-14 and is excluded\n",
    "    if opening_price is not None:\n",
    "        opening_prices.append(opening_price)\n",
    "     \n",
    "# highest opening price in this period.\n",
    "print(\"${:.2f} was the highest opening price for the stock in this period.\\n\".format(max(opening_prices)))\n",
    "\n",
    "# lowest opening price in this period.\n",
    "print(\"${:.2f} was the lowest opening price for the stock in this period.\".format(min(opening_prices)))\n"
   ]
  },
  {
   "cell_type": "code",
   "execution_count": 64,
   "metadata": {},
   "outputs": [
    {
     "name": "stdout",
     "output_type": "stream",
     "text": [
      "$2.81 was the largest change in any one day (based on High and Low price).\n"
     ]
    }
   ],
   "source": [
    "# TASK 4: What was the largest change in any one day (based on High and Low price)?\n",
    "\n",
    "daily_high_minus_low = []\n",
    "\n",
    "for i in range(len(data)):\n",
    "    high = data[i][column_dict['High']]\n",
    "    low = data[i][column_dict['Low']]\n",
    "    daily_high_minus_low.append(round((high - low), 2))\n",
    "    \n",
    "    \n",
    "print('${:.2f} was the largest change in any one day (based on High and Low price).'.format(max(daily_high_minus_low)))\n",
    "\n",
    "# May 11, 2017   High = $46.06 and Low = $43.25"
   ]
  },
  {
   "cell_type": "code",
   "execution_count": 65,
   "metadata": {},
   "outputs": [
    {
     "name": "stdout",
     "output_type": "stream",
     "text": [
      "$2.56 was the largest change between any two days (based on closing price).\n"
     ]
    }
   ],
   "source": [
    "# TASK 5: What was the largest change between any two days (based on Closing Price)?\n",
    "# Assume consecutive day to day changes in closing price\n",
    "\n",
    "day_to_day_price_changes = []\n",
    "\n",
    "for i in range(len(data) - 1):\n",
    "    day_to_day_price_change = abs(data[i][column_dict['Close']] - data[i + 1][column_dict['Close']])\n",
    "    day_to_day_price_changes.append(day_to_day_price_change)\n",
    "    \n",
    "    \n",
    "print('${:.2f} was the largest change between any two days (based on closing price).' \\\n",
    "      .format(max(day_to_day_price_changes)))\n",
    "\n",
    "# Aug 9, 2017    Closed @ $41.81 \n",
    "# Aug 10, 2017   Closed @ $44.37"
   ]
  },
  {
   "cell_type": "code",
   "execution_count": 66,
   "metadata": {},
   "outputs": [
    {
     "name": "stdout",
     "output_type": "stream",
     "text": [
      "89124 was the average daily trading volume during the year.\n"
     ]
    }
   ],
   "source": [
    "# TASK 6: What was the average daily trading volume during this year?\n",
    "\n",
    "daily_volumes = []\n",
    "\n",
    "for i in range(len(data)):\n",
    "    volume = data[i][column_dict['Traded Volume']]\n",
    "    if volume is None:\n",
    "        print(data[i][column_dict['Date']])\n",
    "    daily_volumes.append(volume)\n",
    "    \n",
    "\n",
    "print('{} was the average daily trading volume during the year.'.format(int(sum(daily_volumes)/len(data))))"
   ]
  },
  {
   "cell_type": "code",
   "execution_count": 67,
   "metadata": {},
   "outputs": [
    {
     "name": "stdout",
     "output_type": "stream",
     "text": [
      "76286 was the median trading volume during this year.\n"
     ]
    }
   ],
   "source": [
    "# TASK 7: What was the median trading volume during this year. \n",
    "# Note: you may need to implement your own function for calculating the median.\n",
    "\n",
    "def find_median(values):\n",
    "    n = len(values)\n",
    "    \n",
    "    if n % 2 == 0:\n",
    "        median1 = values[n//2]\n",
    "        median2 = values[n//2 - 1]\n",
    "        median = (median1 + median2)/2\n",
    "\n",
    "    else:\n",
    "        median = values[n//2]\n",
    "    \n",
    "    return median\n",
    "\n",
    "daily_volumes.sort()\n",
    "median = find_median(daily_volumes)\n",
    "\n",
    "print('{} was the median trading volume during this year.'.format(int(median)))"
   ]
  }
 ],
 "metadata": {
  "interpreter": {
   "hash": "4885f37acae9217c235118400878352aafa7b76e66df698a1f601374f86939a7"
  },
  "kernelspec": {
   "display_name": "Python (MEC Mini-Projects)",
   "language": "python",
   "name": "mec-miniprojects"
  },
  "language_info": {
   "codemirror_mode": {
    "name": "ipython",
    "version": 3
   },
   "file_extension": ".py",
   "mimetype": "text/x-python",
   "name": "python",
   "nbconvert_exporter": "python",
   "pygments_lexer": "ipython3",
   "version": "3.7.13"
  }
 },
 "nbformat": 4,
 "nbformat_minor": 4
}
